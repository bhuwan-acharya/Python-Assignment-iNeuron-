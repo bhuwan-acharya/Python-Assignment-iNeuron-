{
 "cells": [
  {
   "cell_type": "markdown",
   "metadata": {},
   "source": [
    "# Assignment 1(May 1)"
   ]
  },
  {
   "cell_type": "markdown",
   "metadata": {},
   "source": [
    "## Task1"
   ]
  },
  {
   "cell_type": "markdown",
   "metadata": {},
   "source": [
    "Question 2:"
   ]
  },
  {
   "cell_type": "code",
   "execution_count": null,
   "metadata": {},
   "outputs": [],
   "source": [
    "list(range(2000,3201))"
   ]
  },
  {
   "cell_type": "code",
   "execution_count": null,
   "metadata": {},
   "outputs": [],
   "source": [
    "Final_list = []\n",
    "for i in list(range(2000,3201)):\n",
    "    #print(i)\n",
    "    if i%7 == 0 and i%5 != 0:\n",
    "        Final_list = Final_list + [i]\n",
    "print(Final_list)\n",
    "    \n",
    "    \n",
    "    "
   ]
  },
  {
   "cell_type": "markdown",
   "metadata": {},
   "source": [
    "Question 3:"
   ]
  },
  {
   "cell_type": "code",
   "execution_count": 3,
   "metadata": {},
   "outputs": [
    {
     "name": "stdout",
     "output_type": "stream",
     "text": [
      "Give your full name and see the magic\n",
      "Bhuwan Acharya\n",
      "ayrahcA nawuhB\n"
     ]
    }
   ],
   "source": [
    "reverse_name = ''\n",
    "a = input('Give your full name and see the magic''\\n')\n",
    "#print(len(a))\n",
    "for i in range(1,len(a)+1):\n",
    "    i = i*(-1)\n",
    "    reverse_name = reverse_name + a[i]\n",
    "print(reverse_name)"
   ]
  },
  {
   "cell_type": "markdown",
   "metadata": {},
   "source": [
    "Question 4:"
   ]
  },
  {
   "cell_type": "code",
   "execution_count": 12,
   "metadata": {},
   "outputs": [
    {
     "name": "stdout",
     "output_type": "stream",
     "text": [
      "904.3199999999999\n"
     ]
    }
   ],
   "source": [
    "Diameter = 12\n",
    "pi = 3.14\n",
    "r = Diameter/2\n",
    "volume = (4/3)*(pi)*(r*r*r)\n",
    "print(volume)"
   ]
  },
  {
   "cell_type": "markdown",
   "metadata": {},
   "source": [
    "Try using math "
   ]
  },
  {
   "cell_type": "code",
   "execution_count": 19,
   "metadata": {},
   "outputs": [
    {
     "name": "stdout",
     "output_type": "stream",
     "text": [
      "904.7786842338603cm3\n"
     ]
    }
   ],
   "source": [
    "import math\n",
    "diameter = 12\n",
    "r = diameter/2\n",
    "volume = (4/3)*(math.pi)*(math.pow(r,3))\n",
    "print(str(volume) + 'cm3')"
   ]
  },
  {
   "cell_type": "markdown",
   "metadata": {},
   "source": [
    "## Task2"
   ]
  },
  {
   "cell_type": "markdown",
   "metadata": {},
   "source": [
    "Question1"
   ]
  },
  {
   "cell_type": "code",
   "execution_count": 35,
   "metadata": {},
   "outputs": [
    {
     "name": "stdout",
     "output_type": "stream",
     "text": [
      "2,6,7\n",
      "2,6,7\n",
      "[2, 6, 7]\n",
      "<class 'list'>\n",
      "<class 'int'>\n"
     ]
    }
   ],
   "source": [
    "a = input()\n",
    "print(a)\n",
    "b = []\n",
    "for i in a:\n",
    "    if i == ',':\n",
    "        continue\n",
    "    b = b + [int(i)]\n",
    "print(b)\n",
    "print(type(b))\n",
    "print(type(b[2]))"
   ]
  },
  {
   "cell_type": "code",
   "execution_count": 117,
   "metadata": {},
   "outputs": [
    {
     "name": "stdout",
     "output_type": "stream",
     "text": [
      "*\n",
      "**\n",
      "***\n",
      "****\n",
      "*****\n",
      "****\n",
      "***\n",
      "**\n",
      "*\n"
     ]
    }
   ],
   "source": [
    "#without for loop\n",
    "a = range(1,10)\n",
    "for i in a:\n",
    "    if i < 6:\n",
    "         print(i*'*')\n",
    "    else :\n",
    "        print((len(a)+1-i)*'*')"
   ]
  },
  {
   "cell_type": "code",
   "execution_count": 142,
   "metadata": {},
   "outputs": [
    {
     "name": "stdout",
     "output_type": "stream",
     "text": [
      "\n",
      "\n",
      "* \n",
      "\n",
      "* * \n",
      "\n",
      "* * * \n",
      "\n",
      "* * * * \n",
      "\n",
      "* * * * * \n",
      "\n",
      "* * * * \n",
      "\n",
      "* * * \n",
      "\n",
      "* * \n",
      "\n",
      "* \n",
      "\n"
     ]
    }
   ],
   "source": [
    "#simple try\n",
    "for i in range(1,11):\n",
    "    if i<=6:\n",
    "        for j in range(1,i):\n",
    "            print('*',end = ' ')\n",
    "    else:\n",
    "        for j in range(1,12-i):\n",
    "            print('*',end = ' ')\n",
    "    print('\\n')\n",
    "    \n",
    "    "
   ]
  },
  {
   "cell_type": "code",
   "execution_count": 159,
   "metadata": {},
   "outputs": [
    {
     "name": "stdout",
     "output_type": "stream",
     "text": [
      " \n",
      "\n",
      "* \n",
      "\n",
      "** \n",
      "\n",
      "*** \n",
      "\n",
      "**** \n",
      "\n",
      "***** \n",
      "\n",
      "**** \n",
      "\n",
      "*** \n",
      "\n",
      "** \n",
      "\n",
      "* \n",
      "\n"
     ]
    }
   ],
   "source": [
    "# reducing the use of print 2 times\n",
    "for i in range(1,11):\n",
    "    if i<=6:\n",
    "        for j in range(0,i):\n",
    "            count = j\n",
    "            #print('*',end = ' ')\n",
    "    else:\n",
    "        for j in range(1,12-i):\n",
    "            count = j\n",
    "            #print('*',end = ' ')\n",
    "    print(count*'*',end = ' ')\n",
    "    print('\\n')"
   ]
  },
  {
   "cell_type": "code",
   "execution_count": 165,
   "metadata": {},
   "outputs": [
    {
     "name": "stdout",
     "output_type": "stream",
     "text": [
      "* \n",
      "\n",
      "* * \n",
      "\n",
      "* * * \n",
      "\n",
      "* * * * \n",
      "\n",
      "* * * * * \n",
      "\n",
      "* * * * \n",
      "\n",
      "* * * \n",
      "\n",
      "* * \n",
      "\n",
      "* \n",
      "\n"
     ]
    }
   ],
   "source": [
    "#diffrent approach \n",
    "count = 1\n",
    "for i in range(1,10):\n",
    "    for j in range(0,count):\n",
    "        print('*',end = ' ')\n",
    "            #print('*',end = ' ')\n",
    "    print('\\n')\n",
    "    if i<5:\n",
    "        count = count+1\n",
    "    else:\n",
    "        count = count-1\n",
    "            #print('*',end = ' ')\n",
    "    \n",
    "    "
   ]
  },
  {
   "cell_type": "markdown",
   "metadata": {},
   "source": [
    "Question 4"
   ]
  },
  {
   "cell_type": "code",
   "execution_count": 2,
   "metadata": {},
   "outputs": [
    {
     "name": "stdout",
     "output_type": "stream",
     "text": [
      "Give the textWE, THE PEOPLE OF INDIA, having solemnly resolved to constitute India into a SOVEREIGN,! SOCIALIST, SECULAR, DEMOCRATIC REPUBLIC and to secure to all its citizens\n",
      "WE, THE PEOPLE OF INDIA,\n",
      "\t  having solemnly resolved to constitute India into a SOVEREIGN,!\n",
      "\t\t  SOCIALIST, SECULAR, DEMOCRATIC REPUBLIC \n",
      "\t\t\t and to secure to all its citizens"
     ]
    }
   ],
   "source": [
    "count = 1\n",
    "a = input('Give the text')\n",
    "for i in range(len(a)):\n",
    "    if ((a[i] == ',' or a[i] == ' ' )and a[i-1].isupper() and a[i+2].islower()) or (a[i] == '!'):\n",
    "        print(a[i] + '\\n' + count * '\\t' ,end = ' ')\n",
    "        count = count +1\n",
    "        continue\n",
    "    print(a[i], end ='')"
   ]
  }
 ],
 "metadata": {
  "kernelspec": {
   "display_name": "Python 3",
   "language": "python",
   "name": "python3"
  },
  "language_info": {
   "codemirror_mode": {
    "name": "ipython",
    "version": 3
   },
   "file_extension": ".py",
   "mimetype": "text/x-python",
   "name": "python",
   "nbconvert_exporter": "python",
   "pygments_lexer": "ipython3",
   "version": "3.7.6"
  }
 },
 "nbformat": 4,
 "nbformat_minor": 4
}
