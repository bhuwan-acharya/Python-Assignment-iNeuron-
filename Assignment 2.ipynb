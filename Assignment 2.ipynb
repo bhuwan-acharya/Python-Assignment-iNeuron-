{
 "cells": [
  {
   "cell_type": "markdown",
   "metadata": {},
   "source": [
    "# Assignment"
   ]
  },
  {
   "cell_type": "markdown",
   "metadata": {},
   "source": [
    "# Task 1"
   ]
  },
  {
   "cell_type": "markdown",
   "metadata": {},
   "source": [
    "# 1.1"
   ]
  },
  {
   "cell_type": "code",
   "execution_count": 4,
   "metadata": {},
   "outputs": [],
   "source": [
    "def myremove(a):\n",
    "    l1 = []\n",
    "    for i in l:\n",
    "        if i == a:\n",
    "            continue\n",
    "        l1 = l1 + [i]\n",
    "    return l1\n",
    "      "
   ]
  },
  {
   "cell_type": "code",
   "execution_count": 5,
   "metadata": {},
   "outputs": [
    {
     "data": {
      "text/plain": [
       "[1, 2, 5, 'bhuwan', 2.3, [1, 3, 4], 'acharya']"
      ]
     },
     "execution_count": 5,
     "metadata": {},
     "output_type": "execute_result"
    }
   ],
   "source": [
    "l = [1,2,5,'bhuwan',2.3,[1,3,4],'acharya']\n",
    "l"
   ]
  },
  {
   "cell_type": "code",
   "execution_count": 6,
   "metadata": {},
   "outputs": [],
   "source": [
    "l = myremove([1,3,4])"
   ]
  },
  {
   "cell_type": "code",
   "execution_count": 7,
   "metadata": {},
   "outputs": [
    {
     "data": {
      "text/plain": [
       "[1, 2, 5, 'bhuwan', 2.3, 'acharya']"
      ]
     },
     "execution_count": 7,
     "metadata": {},
     "output_type": "execute_result"
    }
   ],
   "source": [
    "l"
   ]
  },
  {
   "cell_type": "markdown",
   "metadata": {},
   "source": [
    "# 1.2"
   ]
  },
  {
   "cell_type": "markdown",
   "metadata": {},
   "source": [
    "## My filter"
   ]
  },
  {
   "cell_type": "code",
   "execution_count": 16,
   "metadata": {},
   "outputs": [],
   "source": [
    "def checkprime(a):\n",
    "        for j in range(2,a):\n",
    "            if a%j == 0:\n",
    "                return False\n",
    "                break\n",
    "        else :\n",
    "            return True"
   ]
  },
  {
   "cell_type": "code",
   "execution_count": 17,
   "metadata": {},
   "outputs": [],
   "source": [
    "def myfilter(func_name,l):\n",
    "    for i in l:\n",
    "        if func_name(i) == True:\n",
    "            yield i"
   ]
  },
  {
   "cell_type": "code",
   "execution_count": 18,
   "metadata": {},
   "outputs": [],
   "source": [
    "mylist = [2,5,6,7,9,8,4,14,18,19,17,25,28,40,29]\n",
    "prime = myfilter(checkprime,mylist)"
   ]
  },
  {
   "cell_type": "code",
   "execution_count": 19,
   "metadata": {},
   "outputs": [
    {
     "data": {
      "text/plain": [
       "generator"
      ]
     },
     "execution_count": 19,
     "metadata": {},
     "output_type": "execute_result"
    }
   ],
   "source": [
    "type(prime)"
   ]
  },
  {
   "cell_type": "code",
   "execution_count": 20,
   "metadata": {},
   "outputs": [
    {
     "name": "stdout",
     "output_type": "stream",
     "text": [
      "2\n",
      "5\n",
      "7\n",
      "19\n",
      "17\n",
      "29\n"
     ]
    }
   ],
   "source": [
    "for i in prime:\n",
    "    print(i)"
   ]
  },
  {
   "cell_type": "markdown",
   "metadata": {},
   "source": [
    "#  Task2"
   ]
  },
  {
   "cell_type": "markdown",
   "metadata": {},
   "source": [
    "## a"
   ]
  },
  {
   "cell_type": "code",
   "execution_count": 21,
   "metadata": {},
   "outputs": [
    {
     "data": {
      "text/plain": [
       "['A', 'C', 'A', 'D', 'G', 'I', 'L', 'D']"
      ]
     },
     "execution_count": 21,
     "metadata": {},
     "output_type": "execute_result"
    }
   ],
   "source": [
    "[i for i in 'ACADGILD']"
   ]
  },
  {
   "cell_type": "code",
   "execution_count": 22,
   "metadata": {},
   "outputs": [
    {
     "data": {
      "text/plain": [
       "['x', 'xx', 'xxx', 'xxxx', 'y', 'yy', 'yyy', 'yyyy', 'z', 'zz', 'zzz', 'zzzz']"
      ]
     },
     "execution_count": 22,
     "metadata": {},
     "output_type": "execute_result"
    }
   ],
   "source": [
    "[i*j for i in ['x','y','z'] for j in range(1,5)]"
   ]
  },
  {
   "cell_type": "code",
   "execution_count": 23,
   "metadata": {},
   "outputs": [
    {
     "data": {
      "text/plain": [
       "['x', 'y', 'z', 'xx', 'yy', 'zz', 'xxx', 'yyy', 'zzz', 'xxxx', 'yyyy', 'zzzz']"
      ]
     },
     "execution_count": 23,
     "metadata": {},
     "output_type": "execute_result"
    }
   ],
   "source": [
    "[i*j for i in range(1,5) for j in ['x','y','z']]"
   ]
  },
  {
   "cell_type": "code",
   "execution_count": 24,
   "metadata": {},
   "outputs": [
    {
     "data": {
      "text/plain": [
       "[[2], [3], [4], [3], [4], [5], [4], [5], [6]]"
      ]
     },
     "execution_count": 24,
     "metadata": {},
     "output_type": "execute_result"
    }
   ],
   "source": [
    "[[i+j] for i in range(1,4) for j in range(1,4)]"
   ]
  },
  {
   "cell_type": "code",
   "execution_count": 25,
   "metadata": {},
   "outputs": [
    {
     "data": {
      "text/plain": [
       "[[2, 3, 4, 5], [3, 4, 5, 6], [4, 5, 6, 7], [5, 6, 7, 8]]"
      ]
     },
     "execution_count": 25,
     "metadata": {},
     "output_type": "execute_result"
    }
   ],
   "source": [
    "[[i+1,i+2,i+3,i+4] for i in range(1,5)]"
   ]
  },
  {
   "cell_type": "code",
   "execution_count": 26,
   "metadata": {},
   "outputs": [
    {
     "data": {
      "text/plain": [
       "[(1, 1), (2, 1), (3, 1), (1, 2), (2, 2), (3, 2), (1, 3), (2, 3), (3, 3)]"
      ]
     },
     "execution_count": 26,
     "metadata": {},
     "output_type": "execute_result"
    }
   ],
   "source": [
    "[(j,i) for i in range(1,4) for j in range(1,4)]"
   ]
  },
  {
   "cell_type": "markdown",
   "metadata": {},
   "source": [
    "# 3"
   ]
  },
  {
   "cell_type": "code",
   "execution_count": 27,
   "metadata": {},
   "outputs": [],
   "source": [
    "def longest_word(l):\n",
    "    long_word = ''\n",
    "    word_list = l.split(' ')\n",
    "    for i in word_list:\n",
    "        if len(i) > len(long_word):\n",
    "            long_word = i\n",
    "    print('The longest word for the given sentence is''\\n',long_word)"
   ]
  },
  {
   "cell_type": "code",
   "execution_count": 28,
   "metadata": {},
   "outputs": [
    {
     "name": "stdout",
     "output_type": "stream",
     "text": [
      "Enter the list of word and I will return the longest word among them \n",
      "bhuwan is a sweet person\n",
      "The longest word for the given sentence is\n",
      " bhuwan\n"
     ]
    }
   ],
   "source": [
    "a = input('Enter the list of word and I will return the longest word among them \\n')\n",
    "longest_word(a)"
   ]
  },
  {
   "cell_type": "markdown",
   "metadata": {},
   "source": [
    "## Task 2"
   ]
  },
  {
   "cell_type": "markdown",
   "metadata": {},
   "source": [
    "# 1.1"
   ]
  },
  {
   "cell_type": "code",
   "execution_count": 29,
   "metadata": {},
   "outputs": [],
   "source": [
    "class shape:\n",
    "    def __init__(self, shape):\n",
    "        self.shape = shape\n",
    "        \n",
    "    def data_input(self):\n",
    "        if ((self.shape).lower() == 'triangle'):\n",
    "            self.a = int(input('Enter the length of the triangle that is value of a'))\n",
    "            self.b = int(input('Enter the length of the triangle that is value of b'))\n",
    "            self.c = int(input('Enter the length of the triangle that is value of c'))\n",
    "        elif((self.shape).lower() == 'circle'):\n",
    "            self.r = int(input('Enter the radius of circle that is the value of r'))\n",
    "    "
   ]
  },
  {
   "cell_type": "code",
   "execution_count": 30,
   "metadata": {},
   "outputs": [],
   "source": [
    "class triangle(shape):\n",
    "    def __init__(self, *args):\n",
    "        super(triangle, self).__init__( *args)\n",
    "        \n",
    "    def calculate_area(self):\n",
    "        self.data_input()\n",
    "        s = (self.a + self.b + self.c)/2\n",
    "        area = (s * (s-self.a)*(s-self.b)*(s-self.c))**0.5\n",
    "        print('The area of the triangle is %f' %area)\n",
    "        \n",
    "class circle(shape):\n",
    "    def __init__(self, *args):\n",
    "        super(circle, self).__init__( *args)\n",
    "        \n",
    "    def calculate_area(self):\n",
    "        self.data_input()\n",
    "        pi = 3.14\n",
    "        area = pi * self.r**2\n",
    "        print('The area of the circle is %f' %area)"
   ]
  },
  {
   "cell_type": "code",
   "execution_count": 31,
   "metadata": {},
   "outputs": [],
   "source": [
    "t = circle('circle')"
   ]
  },
  {
   "cell_type": "code",
   "execution_count": 32,
   "metadata": {},
   "outputs": [
    {
     "name": "stdout",
     "output_type": "stream",
     "text": [
      "Enter the radius of circle that is the value of r4\n",
      "The area of the circle is 50.240000\n"
     ]
    }
   ],
   "source": [
    "t.calculate_area()"
   ]
  },
  {
   "cell_type": "code",
   "execution_count": 33,
   "metadata": {},
   "outputs": [],
   "source": [
    "a = triangle('Triangle') "
   ]
  },
  {
   "cell_type": "code",
   "execution_count": 34,
   "metadata": {},
   "outputs": [
    {
     "name": "stdout",
     "output_type": "stream",
     "text": [
      "Enter the length of the triangle that is value of a2\n",
      "Enter the length of the triangle that is value of b3\n",
      "Enter the length of the triangle that is value of c4\n",
      "The area of the triangle is 2.904738\n"
     ]
    }
   ],
   "source": [
    "a.calculate_area()"
   ]
  },
  {
   "cell_type": "markdown",
   "metadata": {},
   "source": [
    "# 1.2"
   ]
  },
  {
   "cell_type": "code",
   "execution_count": 35,
   "metadata": {},
   "outputs": [],
   "source": [
    "def filter_long_word(word,n):\n",
    "    word_list = word.split()\n",
    "    for i in range(len(word_list)):\n",
    "        if (len(word_list[i]) >= int(n)):\n",
    "            yield word_list[i]\n",
    "            "
   ]
  },
  {
   "cell_type": "code",
   "execution_count": 37,
   "metadata": {},
   "outputs": [
    {
     "name": "stdout",
     "output_type": "stream",
     "text": [
      "Enter the set of wordsbhuwan is a sweet person in this whole world\n",
      "Enter the number so that i can return word having more than that number4\n",
      "bhuwan\n",
      "sweet\n",
      "person\n",
      "this\n",
      "whole\n",
      "world\n"
     ]
    }
   ],
   "source": [
    "word = input('Enter the set of words')\n",
    "limit = input('Enter the number so that i can return word having more than that number')\n",
    "for i in filter_long_word(word,limit):\n",
    "    print(i)"
   ]
  },
  {
   "cell_type": "code",
   "execution_count": 47,
   "metadata": {},
   "outputs": [],
   "source": [
    "def filter_long_words(word,n):\n",
    "    for i in word:\n",
    "        if (len(i) >= int(n)):\n",
    "            yield i\n",
    "            "
   ]
  },
  {
   "cell_type": "code",
   "execution_count": 48,
   "metadata": {},
   "outputs": [
    {
     "name": "stdout",
     "output_type": "stream",
     "text": [
      "Enter the number of words that you want to check5\n"
     ]
    }
   ],
   "source": [
    "num_of_words = input('Enter the number of words that you want to check')"
   ]
  },
  {
   "cell_type": "code",
   "execution_count": 49,
   "metadata": {},
   "outputs": [
    {
     "name": "stdout",
     "output_type": "stream",
     "text": [
      "Enter the wordsbhuwan\n",
      "Enter the wordsis \n",
      "Enter the wordsa\n",
      "Enter the wordsbest\n",
      "Enter the wordsperson\n",
      "Enter the number so that i can return word having more than the given number \n",
      "4\n"
     ]
    }
   ],
   "source": [
    "list_of_word = []\n",
    "for i in range(int(num_of_words)):\n",
    "    list_of_word = list_of_word + [input('Enter the words')]\n",
    "limit = input('Enter the number so that i can return word having more than the given number \\n')"
   ]
  },
  {
   "cell_type": "code",
   "execution_count": 50,
   "metadata": {},
   "outputs": [
    {
     "name": "stdout",
     "output_type": "stream",
     "text": [
      "bhuwan\n",
      "best\n",
      "person\n"
     ]
    }
   ],
   "source": [
    "for i in filter_long_words(list_of_word,limit):\n",
    "    print(i)"
   ]
  },
  {
   "cell_type": "markdown",
   "metadata": {},
   "source": [
    "# 2.1"
   ]
  },
  {
   "cell_type": "code",
   "execution_count": 51,
   "metadata": {},
   "outputs": [],
   "source": [
    "def word_to_number(word_list):\n",
    "    for i in word_list:\n",
    "        yield len(i)"
   ]
  },
  {
   "cell_type": "code",
   "execution_count": 52,
   "metadata": {},
   "outputs": [
    {
     "name": "stdout",
     "output_type": "stream",
     "text": [
      "Enter the number of words that you want to map3\n",
      "please enter the word that you want to map to the word lengthbhuwan\n",
      "please enter the word that you want to map to the word lengthacharya\n",
      "please enter the word that you want to map to the word lengthhuman being\n"
     ]
    }
   ],
   "source": [
    "num_of_words = input('Enter the number of words that you want to map')\n",
    "word_collection = []\n",
    "for i in range(int(num_of_words)):\n",
    "    word_collection =  word_collection  + [input('please enter the word that you want to map to the word length')]"
   ]
  },
  {
   "cell_type": "code",
   "execution_count": 53,
   "metadata": {},
   "outputs": [
    {
     "name": "stdout",
     "output_type": "stream",
     "text": [
      "[6, 7, 11]\n"
     ]
    }
   ],
   "source": [
    "numbered_list = []\n",
    "for i in word_to_number(word_collection):\n",
    "    numbered_list = numbered_list + [i]\n",
    "\n",
    "print(numbered_list)"
   ]
  },
  {
   "cell_type": "markdown",
   "metadata": {},
   "source": [
    "# 2.2"
   ]
  },
  {
   "cell_type": "code",
   "execution_count": 54,
   "metadata": {},
   "outputs": [],
   "source": [
    "def vowel(charecter):\n",
    "    charset = ['a','e','i','o','u']\n",
    "    for i in range(len(charset)):\n",
    "        if charecter == charset[i]:\n",
    "            return True\n",
    "    else:\n",
    "        return False"
   ]
  },
  {
   "cell_type": "code",
   "execution_count": 55,
   "metadata": {},
   "outputs": [
    {
     "name": "stdout",
     "output_type": "stream",
     "text": [
      "Enter the charecter to check it os vowel or notg\n"
     ]
    },
    {
     "data": {
      "text/plain": [
       "False"
      ]
     },
     "execution_count": 55,
     "metadata": {},
     "output_type": "execute_result"
    }
   ],
   "source": [
    "vowel(input('Enter the charecter to check it os vowel or not'))\n"
   ]
  },
  {
   "cell_type": "code",
   "execution_count": null,
   "metadata": {},
   "outputs": [],
   "source": []
  }
 ],
 "metadata": {
  "kernelspec": {
   "display_name": "Python 3",
   "language": "python",
   "name": "python3"
  },
  "language_info": {
   "codemirror_mode": {
    "name": "ipython",
    "version": 3
   },
   "file_extension": ".py",
   "mimetype": "text/x-python",
   "name": "python",
   "nbconvert_exporter": "python",
   "pygments_lexer": "ipython3",
   "version": "3.7.6"
  }
 },
 "nbformat": 4,
 "nbformat_minor": 4
}
