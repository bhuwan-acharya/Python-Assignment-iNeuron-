{
 "cells": [
  {
   "cell_type": "markdown",
   "metadata": {},
   "source": [
    "# Assignment 3"
   ]
  },
  {
   "cell_type": "markdown",
   "metadata": {},
   "source": [
    "## Task 1 "
   ]
  },
  {
   "cell_type": "markdown",
   "metadata": {},
   "source": [
    "## 1"
   ]
  },
  {
   "cell_type": "code",
   "execution_count": null,
   "metadata": {},
   "outputs": [],
   "source": [
    "def divide():\n",
    "    try:\n",
    "        a = int(input('Enter the Numerator for the division = '))\n",
    "        b = int(input('Enter the Denominator for the division = '))\n",
    "        d = a/b\n",
    "        print('The divided value is ' ,d)\n",
    "    except Exception as e:\n",
    "        print('Error occured : ', e)"
   ]
  },
  {
   "cell_type": "code",
   "execution_count": null,
   "metadata": {},
   "outputs": [],
   "source": [
    "divide()"
   ]
  },
  {
   "cell_type": "markdown",
   "metadata": {},
   "source": [
    "## 2"
   ]
  },
  {
   "cell_type": "code",
   "execution_count": null,
   "metadata": {},
   "outputs": [],
   "source": [
    "def sentence(subjects, verbs, objects):\n",
    "    for i in subjects:\n",
    "        for j in verbs:\n",
    "            for k in objects:\n",
    "                print(i +' '+ j +' '+ k)"
   ]
  },
  {
   "cell_type": "code",
   "execution_count": null,
   "metadata": {},
   "outputs": [],
   "source": [
    "subjects=[\"Americans\",\"Indians\"]\n",
    "verbs=[\"play\",\"watch\"]\n",
    "objects=[\"Baseball\",\"Cricket\"]"
   ]
  },
  {
   "cell_type": "code",
   "execution_count": null,
   "metadata": {},
   "outputs": [],
   "source": [
    "sentence(subjects, verbs, objects)"
   ]
  },
  {
   "cell_type": "code",
   "execution_count": 5,
   "metadata": {},
   "outputs": [
    {
     "name": "stdout",
     "output_type": "stream",
     "text": [
      "Enter the number of subjects for creating the sentences3\n",
      "Enter the subjects for the sentences : bhuwan\n",
      "Enter the subjects for the sentences : pradip\n",
      "Enter the subjects for the sentences : bijay\n",
      "Enter the verbs for the the sentences : play\n",
      "Enter the verbs for the the sentences : sing\n",
      "Enter the verbs for the the sentences : watch\n",
      "Enter the objects for the sentences : football\n",
      "Enter the objects for the sentences : music\n",
      "Enter the objects for the sentences : tv\n",
      "bhuwan play football\n",
      "bhuwan play music\n",
      "bhuwan play tv\n",
      "bhuwan sing football\n",
      "bhuwan sing music\n",
      "bhuwan sing tv\n",
      "bhuwan watch football\n",
      "bhuwan watch music\n",
      "bhuwan watch tv\n",
      "pradip play football\n",
      "pradip play music\n",
      "pradip play tv\n",
      "pradip sing football\n",
      "pradip sing music\n",
      "pradip sing tv\n",
      "pradip watch football\n",
      "pradip watch music\n",
      "pradip watch tv\n",
      "bijay play football\n",
      "bijay play music\n",
      "bijay play tv\n",
      "bijay sing football\n",
      "bijay sing music\n",
      "bijay sing tv\n",
      "bijay watch football\n",
      "bijay watch music\n",
      "bijay watch tv\n"
     ]
    }
   ],
   "source": [
    "a = int(input('Enter the number of subjects for creating the sentences'))\n",
    "s,v,o = [],[],[]\n",
    "for i in range(a):\n",
    "    s = s + [input('Enter the subjects for the sentences : ')]\n",
    "for i in range(a):    \n",
    "    v = v + [input('Enter the verbs for the the sentences : ')]\n",
    "for i in range(a):\n",
    "    o = o + [input('Enter the objects for the sentences : ')]\n",
    "sentence(s,v,o)"
   ]
  },
  {
   "cell_type": "markdown",
   "metadata": {},
   "source": [
    "## Task 2"
   ]
  },
  {
   "cell_type": "markdown",
   "metadata": {},
   "source": [
    "# 1"
   ]
  },
  {
   "cell_type": "code",
   "execution_count": 39,
   "metadata": {},
   "outputs": [],
   "source": [
    "def AlexandreTheophileVandermonde(vector):\n",
    "    for i in vector:\n",
    "            for j in range(1,len(vector)+1):\n",
    "                print((i**j), end = '  ')\n",
    "            print('\\n')\n"
   ]
  },
  {
   "cell_type": "code",
   "execution_count": 40,
   "metadata": {},
   "outputs": [
    {
     "name": "stdout",
     "output_type": "stream",
     "text": [
      "4  16  64  256  1024  \n",
      "\n",
      "6  36  216  1296  7776  \n",
      "\n",
      "2  4  8  16  32  \n",
      "\n",
      "7  49  343  2401  16807  \n",
      "\n",
      "9  81  729  6561  59049  \n",
      "\n"
     ]
    }
   ],
   "source": [
    "v = [4,6,2,7,9]\n",
    "AlexandreTheophileVandermonde(v)"
   ]
  },
  {
   "cell_type": "code",
   "execution_count": null,
   "metadata": {},
   "outputs": [],
   "source": []
  }
 ],
 "metadata": {
  "kernelspec": {
   "display_name": "Python 3",
   "language": "python",
   "name": "python3"
  },
  "language_info": {
   "codemirror_mode": {
    "name": "ipython",
    "version": 3
   },
   "file_extension": ".py",
   "mimetype": "text/x-python",
   "name": "python",
   "nbconvert_exporter": "python",
   "pygments_lexer": "ipython3",
   "version": "3.7.6"
  }
 },
 "nbformat": 4,
 "nbformat_minor": 4
}
